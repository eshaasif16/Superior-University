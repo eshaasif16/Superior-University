{
 "cells": [
  {
   "cell_type": "code",
   "execution_count": null,
   "metadata": {},
   "outputs": [
    {
     "name": "stdout",
     "output_type": "stream",
     "text": [
      "3\n"
     ]
    }
   ],
   "source": [
    "import math\n",
    "\n",
    "score = [1, 2, 3, 4]\n",
    "Tree_depth = (math.log(len(score), 2))\n",
    "\n",
    "def minmax(curr_depth, curr_index, is_Max):\n",
    "    if(curr_depth == Tree_depth):\n",
    "        return score[curr_index]\n",
    "\n",
    "    if(is_Max):\n",
    "        return max(minmax(curr_depth + 1, curr_index * 2, False),\n",
    "                   minmax(curr_depth + 1, curr_index * 2 + 1, False))\n",
    "    else:\n",
    "        return min(minmax(curr_depth + 1, curr_index * 2, True),\n",
    "                   minmax(curr_depth + 1, curr_index * 2 + 1, True))\n",
    "\n",
    "print(minmax(0, 0, True))\n",
    "\n",
    "\n"
   ]
  },
  {
   "cell_type": "code",
   "execution_count": null,
   "metadata": {},
   "outputs": [],
   "source": []
  }
 ],
 "metadata": {
  "kernelspec": {
   "display_name": "Python 3",
   "language": "python",
   "name": "python3"
  },
  "language_info": {
   "codemirror_mode": {
    "name": "ipython",
    "version": 3
   },
   "file_extension": ".py",
   "mimetype": "text/x-python",
   "name": "python",
   "nbconvert_exporter": "python",
   "pygments_lexer": "ipython3",
   "version": "3.12.1"
  }
 },
 "nbformat": 4,
 "nbformat_minor": 2
}
