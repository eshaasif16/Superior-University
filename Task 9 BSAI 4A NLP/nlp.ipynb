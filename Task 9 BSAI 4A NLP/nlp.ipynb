{
 "cells": [
  {
   "cell_type": "code",
   "execution_count": 7,
   "metadata": {},
   "outputs": [
    {
     "name": "stdout",
     "output_type": "stream",
     "text": [
      "C:\\Users\\eshaa\\AppData\\Local\\Packages\\PythonSoftwareFoundation.Python.3.12_qbz5n2kfra8p0\\LocalCache\\local-packages\\Python312\\site-packages\n",
      "Original Document Size: 1820\n",
      "Deep-learning architectures such as deep neural networks, deep belief networks, deep reinforcement learning, \n",
      "recurrent neural networks and convolutional neural networks have been applied to\n",
      "fields including computer vision, speech recognition, natural language processing, \n",
      "machine translation, bioinformatics, drug design, medical image analysis, material\n",
      "inspection and board game programs, where they have produced results comparable to \n",
      "and in some cases surpassing human expert performance.\n",
      "Summary Length: 81\n",
      "Specifically, \n",
      "neural networks tend to be static and symbolic, while the biological brain of most living organisms\n",
      "is dynamic (plastic) and analogue.\n",
      "Summary Length: 29\n"
     ]
    }
   ],
   "source": [
    "#1\n",
    "import spacy\n",
    "import os\n",
    "os.environ[\"GIT_PYTHON_REFRESH\"] = \"quiet\"\n",
    "import pytextrank\n",
    "\n",
    "nlp = spacy.load(\"en_core_web_lg\")\n",
    "nlp.add_pipe(\"textrank\")\n",
    "\n",
    "\n",
    "example_text = \"\"\"Deep learning (also known as deep structured learning) is part of a \n",
    "broader family of machine learning methods based on artificial neural networks with \n",
    "representation learning. Learning can be supervised, semi-supervised or unsupervised. \n",
    "Deep-learning architectures such as deep neural networks, deep belief networks, deep reinforcement learning, \n",
    "recurrent neural networks and convolutional neural networks have been applied to\n",
    "fields including computer vision, speech recognition, natural language processing, \n",
    "machine translation, bioinformatics, drug design, medical image analysis, material\n",
    "inspection and board game programs, where they have produced results comparable to \n",
    "and in some cases surpassing human expert performance. Artificial neural networks\n",
    "(ANNs) were inspired by information processing and distributed communication nodes\n",
    "in biological systems. ANNs have various differences from biological brains. Specifically, \n",
    "neural networks tend to be static and symbolic, while the biological brain of most living organisms\n",
    "is dynamic (plastic) and analogue. The adjective \"deep\" in deep learning refers to the use of multiple\n",
    "layers in the network. Early work showed that a linear perceptron cannot be a universal classifier, \n",
    "but that a network with a nonpolynomial activation function with one hidden layer of unbounded width can.\n",
    "Deep learning is a modern variation which is concerned with an unbounded number of layers of bounded size, \n",
    "which permits practical application and optimized implementation, while retaining theoretical universality \n",
    "under mild conditions. In deep learning the layers are also permitted to be heterogeneous and to deviate widely \n",
    "from biologically informed connectionist models, for the sake of efficiency, trainability and understandability, \n",
    "whence the structured part.\"\"\"\n",
    "print('Original Document Size:',len(example_text))\n",
    "doc = nlp(example_text)\n",
    "\n",
    "for sent in doc._.textrank.summary(limit_phrases=2, limit_sentences=2):\n",
    "    print(sent)\n",
    "    print('Summary Length:',len(sent))\n",
    "\n"
   ]
  },
  {
   "cell_type": "code",
   "execution_count": 5,
   "metadata": {},
   "outputs": [
    {
     "name": "stderr",
     "output_type": "stream",
     "text": [
      "C:\\Users\\eshaa\\AppData\\Local\\Packages\\PythonSoftwareFoundation.Python.3.12_qbz5n2kfra8p0\\LocalCache\\local-packages\\Python312\\site-packages\\huggingface_hub\\file_download.py:140: UserWarning: `huggingface_hub` cache-system uses symlinks by default to efficiently store duplicated files but your machine does not support them in C:\\Users\\eshaa\\.cache\\huggingface\\hub\\models--t5-small. Caching files will still work but in a degraded version that might require more space on your disk. This warning can be disabled by setting the `HF_HUB_DISABLE_SYMLINKS_WARNING` environment variable. For more details, see https://huggingface.co/docs/huggingface_hub/how-to-cache#limitations.\n",
      "To support symlinks on Windows, you either need to activate Developer Mode or to run Python as an administrator. In order to activate developer mode, see this article: https://docs.microsoft.com/en-us/windows/apps/get-started/enable-your-device-for-development\n",
      "  warnings.warn(message)\n",
      "You are using the default legacy behaviour of the <class 'transformers.models.t5.tokenization_t5.T5Tokenizer'>. This is expected, and simply means that the `legacy` (previous) behavior will be used so nothing changes for you. If you want to use the new behaviour, set `legacy=False`. This should only be set if you understand what it means, and thoroughly read the reason why this was added as explained in https://github.com/huggingface/transformers/pull/24565\n"
     ]
    },
    {
     "name": "stdout",
     "output_type": "stream",
     "text": [
      "the transformers library provides state-of-the-art models for various NLP tasks. developers can quickly integrate advanced NLP capabilities into their applications. the community-driven approach ensures continuous improvement and innovation in the library.\n",
      "* Running on local URL:  http://127.0.0.1:7860\n",
      "\n",
      "To create a public link, set `share=True` in `launch()`.\n"
     ]
    },
    {
     "data": {
      "text/html": [
       "<div><iframe src=\"http://127.0.0.1:7860/\" width=\"100%\" height=\"500\" allow=\"autoplay; camera; microphone; clipboard-read; clipboard-write;\" frameborder=\"0\" allowfullscreen></iframe></div>"
      ],
      "text/plain": [
       "<IPython.core.display.HTML object>"
      ]
     },
     "metadata": {},
     "output_type": "display_data"
    },
    {
     "data": {
      "text/plain": []
     },
     "execution_count": 5,
     "metadata": {},
     "output_type": "execute_result"
    }
   ],
   "source": [
    "#2\n",
    "import gradio as gr\n",
    "from transformers import T5Tokenizer, T5ForConditionalGeneration\n",
    "import torch\n",
    "from evaluate import load\n",
    "\n",
    "\n",
    "# Load the model and tokenizer\n",
    "model_name = 't5-small'\n",
    "tokenizer = T5Tokenizer.from_pretrained(model_name)\n",
    "model = T5ForConditionalGeneration.from_pretrained(model_name)\n",
    "\n",
    "# Summarization function\n",
    "def summarize(text):\n",
    "    inputs = tokenizer.encode(\"summarize: \" + text, return_tensors=\"pt\", max_length=1024, truncation=True)\n",
    "    summary_ids = model.generate(inputs, max_length=150, min_length=40, length_penalty=2.0, num_beams=4, early_stopping=True)\n",
    "    summary = tokenizer.decode(summary_ids[0], skip_special_tokens=True)\n",
    "    return summary\n",
    "\n",
    "text = \"\"\" The Hugging Face library has revolutionized the field of natural language processing with its transformers library.\n",
    "This library provides state-of-the-art models for various NLP tasks including text summarization, text classification, question answering, and more. \n",
    "With easy-to-use APIs and pre-trained models, developers can quickly integrate advanced NLP capabilities into their applications. \n",
    "The community-driven approach ensures continuous improvement and innovation in the library, making it a valuable resource for both researchers and practitioners.\"\"\"\n",
    "\n",
    "summary = summarize(text)\n",
    "print(summary)\n",
    "\n",
    "# Gradio interface\n",
    "iface = gr.Interface(fn=summarize, inputs=\"text\", outputs=\"text\", title=\"Text Summarization with T5\", description=\"Enter text to get a summarized version using the T5 model.\")\n",
    "\n",
    "# Launch the interface\n",
    "iface.launch()\n"
   ]
  },
  {
   "cell_type": "code",
   "execution_count": 9,
   "metadata": {},
   "outputs": [
    {
     "name": "stderr",
     "output_type": "stream",
     "text": [
      "[nltk_data] Downloading package punkt_tab to\n",
      "[nltk_data]     C:\\Users\\eshaa\\AppData\\Roaming\\nltk_data...\n",
      "[nltk_data]   Unzipping tokenizers\\punkt_tab.zip.\n"
     ]
    },
    {
     "name": "stdout",
     "output_type": "stream",
     "text": [
      "('Hello', 'this', 'is', 'GeeksForGeeks')\n",
      "('We', 'are', 'a', 'computer', 'science', 'portal', 'for', 'geeks', 'offering', 'a', 'wide', 'range', 'of', 'articles', 'tutorials', 'and', 'resources', 'on', 'various', 'topics', 'in', 'computer', 'science', 'and', 'programming')\n",
      "('Our', 'mission', 'is', 'to', 'provide', 'quality', 'education', 'and', 'knowledge', 'sharing', 'to', 'help', 'you', 'excel', 'in', 'your', 'career', 'and', 'academic', 'pursuits')\n",
      "('Whether', 'you', 'a', 'beginner', 'looking', 'to', 'learn', 'the', 'basics', 'of', 'coding', 'or', 'an', 'experienced', 'developer', 'seeking', 'advanced', 'concepts', 'GeeksForGeeks', 'has', 'something', 'for', 'everyone')\n"
     ]
    },
    {
     "name": "stderr",
     "output_type": "stream",
     "text": [
      "[nltk_data] Downloading package punkt to\n",
      "[nltk_data]     C:\\Users\\eshaa\\AppData\\Roaming\\nltk_data...\n",
      "[nltk_data]   Package punkt is already up-to-date!\n"
     ]
    }
   ],
   "source": [
    "#3\n",
    "import nltk\n",
    "nltk.download('punkt_tab')\n",
    "\n",
    "from sumy.nlp.tokenizers import Tokenizer\n",
    "import nltk\n",
    "nltk.download('punkt')\n",
    "tokenizer = Tokenizer(\"en\")\n",
    "\n",
    "sentences = tokenizer.to_sentences(\"Hello, this is GeeksForGeeks! We are a computer science portal for geeks, offering a wide range of articles, tutorials, and resources on various topics in computer science and programming. Our mission is to provide quality education and knowledge sharing to help you excel in your career and academic pursuits. Whether you're a beginner looking to learn the basics of coding or an experienced developer seeking advanced concepts, GeeksForGeeks has something for everyone. \")\n",
    "for sentence in sentences:\n",
    "    print(tokenizer.to_words(sentence))\n"
   ]
  },
  {
   "cell_type": "code",
   "execution_count": null,
   "metadata": {},
   "outputs": [],
   "source": []
  },
  {
   "cell_type": "code",
   "execution_count": null,
   "metadata": {},
   "outputs": [],
   "source": []
  }
 ],
 "metadata": {
  "kernelspec": {
   "display_name": "Python 3",
   "language": "python",
   "name": "python3"
  },
  "language_info": {
   "codemirror_mode": {
    "name": "ipython",
    "version": 3
   },
   "file_extension": ".py",
   "mimetype": "text/x-python",
   "name": "python",
   "nbconvert_exporter": "python",
   "pygments_lexer": "ipython3",
   "version": "3.12.10"
  }
 },
 "nbformat": 4,
 "nbformat_minor": 2
}
