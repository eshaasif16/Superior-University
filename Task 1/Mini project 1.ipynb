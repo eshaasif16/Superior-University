{
 "cells": [
  {
   "cell_type": "code",
   "execution_count": 1,
   "metadata": {},
   "outputs": [
    {
     "name": "stdout",
     "output_type": "stream",
     "text": [
      "welcome to the Dynamic Calculator!\n",
      "to exit the calculator type exit\n",
      "result -56.8\n",
      "result error! division by 0\n",
      "exiting the calculator\n"
     ]
    }
   ],
   "source": [
    "#mini project\n",
    "#dynamic calculator\n",
    "class Calculator:\n",
    "    def __init__(self):\n",
    "        pass\n",
    "\n",
    "    def evaluate_expression(self, expression):\n",
    "        try:\n",
    "            result = eval(expression)\n",
    "            return result\n",
    "        except ZeroDivisionError:\n",
    "            return \"error! division by 0\"\n",
    "        except Exception as e:\n",
    "            return f\"error! invalid expression({e}) \"\n",
    "\n",
    "    def start(self):\n",
    "        print(\"welcome to the Dynamic Calculator!\")\n",
    "        print(\"to exit the calculator type exit\")\n",
    "\n",
    "        while True:\n",
    "            expression = input(\"enter expression\").strip()\n",
    "            if expression.lower()== \"exit\":\n",
    "                print(\"exiting the calculator\")\n",
    "                break\n",
    "\n",
    "            result = self.evaluate_expression(expression)\n",
    "            print(f\"result {result}\")\n",
    "\n",
    "calculator = Calculator()\n",
    "calculator.start()"
   ]
  },
  {
   "cell_type": "code",
   "execution_count": null,
   "metadata": {},
   "outputs": [],
   "source": []
  }
 ],
 "metadata": {
  "kernelspec": {
   "display_name": "Python 3",
   "language": "python",
   "name": "python3"
  },
  "language_info": {
   "codemirror_mode": {
    "name": "ipython",
    "version": 3
   },
   "file_extension": ".py",
   "mimetype": "text/x-python",
   "name": "python",
   "nbconvert_exporter": "python",
   "pygments_lexer": "ipython3",
   "version": "3.12.1"
  }
 },
 "nbformat": 4,
 "nbformat_minor": 2
}
