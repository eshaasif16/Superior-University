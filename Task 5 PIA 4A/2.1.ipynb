{
 "cells": [
  {
   "cell_type": "code",
   "execution_count": 1,
   "metadata": {},
   "outputs": [],
   "source": [
    "#2.1\n",
    "import pandas as pd \n",
    "import cv2 \n",
    "img = cv2.imread(\"C:\\\\Users\\\\eshaa\\\\OneDrive\\\\Desktop\\\\ewww\\\\d8cb105b641f3568781f26abda635a7d.jpg\", cv2.IMREAD_COLOR)\n",
    "\n",
    "\n",
    "cv2.imshow(\"image\", img)  \n",
    "cv2.waitKey(0)\n",
    "cv2.destroyAllWindows()"
   ]
  },
  {
   "cell_type": "code",
   "execution_count": 2,
   "metadata": {},
   "outputs": [
    {
     "data": {
      "text/plain": [
       "(736, 736, 3)"
      ]
     },
     "execution_count": 2,
     "metadata": {},
     "output_type": "execute_result"
    }
   ],
   "source": [
    "img.shape"
   ]
  },
  {
   "cell_type": "code",
   "execution_count": 3,
   "metadata": {},
   "outputs": [],
   "source": [
    "# Python program to explain cv2.imshow() method\n",
    "\n",
    "# importing cv2\n",
    "import cv2\n",
    "\n",
    "# path\n",
    "path = r'C:\\Users\\eshaa\\OneDrive\\Desktop\\ewww\\d8cb105b641f3568781f26abda635a7d.jpg'\n",
    "\n",
    "# Reading an image in default mode\n",
    "image = cv2.imread(path)\n",
    "\n",
    "# Window name in which image is displayed\n",
    "window_name = 'image'\n",
    "\n",
    "# Using cv2.imshow() method\n",
    "# Displaying the image\n",
    "cv2.imshow(window_name, image)\n",
    "\n",
    "# waits for user to press any key\n",
    "# (this is necessary to avoid Python kernel form crashing)\n",
    "cv2.waitKey(0)\n",
    "\n",
    "# closing all open windows\n",
    "cv2.destroyAllWindows()\n"
   ]
  },
  {
   "cell_type": "code",
   "execution_count": null,
   "metadata": {},
   "outputs": [
    {
     "name": "stdout",
     "output_type": "stream",
     "text": [
      "Before saving image:\n",
      "['.vscode', 'd8cb105b641f3568781f26abda635a7d.jpg', 'file.py', 'hehe.ipynb', 'selfie main ny le li aj.py', 'venv']\n",
      "After saving image:\n",
      "['.vscode', 'd8cb105b641f3568781f26abda635a7d.jpg', 'file.py', 'hehe.ipynb', 'savedImage.jpg', 'selfie main ny le li aj.py', 'venv']\n",
      "Successfully saved the image.\n"
     ]
    }
   ],
   "source": [
    "import cv2\n",
    "import os\n",
    "\n",
    "# Image path\n",
    "image_path = r'C:\\Users\\eshaa\\OneDrive\\Desktop\\ewww\\d8cb105b641f3568781f26abda635a7d.jpg'\n",
    "directory = r'C:\\Users\\eshaa\\OneDrive\\Desktop\\ewww'\n",
    "img = cv2.imread(image_path)\n",
    "if img is None:\n",
    "    print(\"Error: Unable to load image.\")\n",
    "else:\n",
    "    # Change the current directory to the specified directory\n",
    "    os.chdir(directory)\n",
    "    print(\"Before saving image:\")\n",
    "    print(os.listdir(directory))\n",
    "\n",
    "    # Filename for the saved image\n",
    "    filename = 'savedImage.jpg'\n",
    "    cv2.imwrite(filename, img)\n",
    "    print(\"After saving image:\")\n",
    "    print(os.listdir(directory))\n",
    "\n",
    "    print('Successfully saved the image.')\n",
    "\n"
   ]
  },
  {
   "cell_type": "code",
   "execution_count": 4,
   "metadata": {},
   "outputs": [],
   "source": [
    "import cv2 \n",
    "  \n",
    "image = cv2.imread(\"C:\\\\Users\\\\eshaa\\\\OneDrive\\\\Desktop\\\\ewww\\\\d8cb105b641f3568781f26abda635a7d.jpg\") \n",
    "B, G, R = cv2.split(image) \n",
    "# Corresponding channels are separated \n",
    "  \n",
    "cv2.imshow(\"original\", image) \n",
    "cv2.waitKey(0) \n",
    "  \n",
    "cv2.imshow(\"blue\", B) \n",
    "cv2.waitKey(0) \n",
    "  \n",
    "cv2.imshow(\"Green\", G) \n",
    "cv2.waitKey(0) \n",
    "  \n",
    "cv2.imshow(\"red\", R) \n",
    "cv2.waitKey(0) \n",
    "  \n",
    "cv2.destroyAllWindows() "
   ]
  },
  {
   "cell_type": "code",
   "execution_count": 5,
   "metadata": {},
   "outputs": [],
   "source": [
    "\n",
    "import cv2  \n",
    "import numpy as np  \n",
    "    \n",
    "# path to input images are specified and   \n",
    "# images are loaded with imread command  \n",
    "image1 = cv2.imread(\"C:\\\\Users\\\\eshaa\\\\OneDrive\\\\Desktop\\\\ewww\\\\d8cb105b641f3568781f26abda635a7d.jpg\")  \n",
    "image2 = cv2.imread(\"C:\\\\Users\\\\eshaa\\\\OneDrive\\\\Desktop\\\\ewww\\\\d8cb105b641f3568781f26abda635a7d.jpg\") \n",
    "  \n",
    "# cv2.addWeighted is applied over the \n",
    "# image inputs with applied parameters \n",
    "weightedSum = cv2.addWeighted(image1, 0.5, image2, 0.4, 0) \n",
    "  \n",
    "# the window showing output image \n",
    "# with the weighted sum  \n",
    "cv2.imshow('Weighted Image', weightedSum) \n",
    "  \n",
    "# De-allocate any associated memory usage   \n",
    "if cv2.waitKey(0) & 0xff == 27:  \n",
    "    cv2.destroyAllWindows()  "
   ]
  },
  {
   "cell_type": "code",
   "execution_count": 6,
   "metadata": {},
   "outputs": [],
   "source": [
    "# Python program to illustrate \n",
    "# arithmetic operation of \n",
    "# bitwise AND of two images \n",
    "\t\n",
    "# organizing imports \n",
    "import cv2 \n",
    "import numpy as np \n",
    "\t\n",
    "# path to input images are specified and \n",
    "# images are loaded with imread command \n",
    "img1 = cv2.imread(\"C:\\\\Users\\\\eshaa\\\\OneDrive\\\\Desktop\\\\ewww\\\\d8cb105b641f3568781f26abda635a7d.jpg\") \n",
    "img2 = cv2.imread(\"C:\\\\Users\\\\eshaa\\\\OneDrive\\\\Desktop\\\\ewww\\\\d8cb105b641f3568781f26abda635a7d.jpg\") \n",
    "\n",
    "# cv2.bitwise_and is applied over the \n",
    "# image inputs with applied parameters \n",
    "dest_and = cv2.bitwise_and(img2, img1, mask = None) \n",
    "\n",
    "# the window showing output image \n",
    "# with the Bitwise AND operation \n",
    "# on the input images \n",
    "cv2.imshow('Bitwise And', dest_and) \n",
    "\n",
    "# De-allocate any associated memory usage \n",
    "if cv2.waitKey(0) & 0xff == 27: \n",
    "\tcv2.destroyAllWindows() \n"
   ]
  },
  {
   "cell_type": "code",
   "execution_count": null,
   "metadata": {},
   "outputs": [],
   "source": []
  },
  {
   "cell_type": "code",
   "execution_count": null,
   "metadata": {},
   "outputs": [],
   "source": []
  }
 ],
 "metadata": {
  "kernelspec": {
   "display_name": "venv",
   "language": "python",
   "name": "python3"
  },
  "language_info": {
   "codemirror_mode": {
    "name": "ipython",
    "version": 3
   },
   "file_extension": ".py",
   "mimetype": "text/x-python",
   "name": "python",
   "nbconvert_exporter": "python",
   "pygments_lexer": "ipython3",
   "version": "3.12.9"
  }
 },
 "nbformat": 4,
 "nbformat_minor": 2
}
