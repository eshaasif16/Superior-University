{
 "cells": [
  {
   "cell_type": "code",
   "execution_count": 2,
   "metadata": {},
   "outputs": [
    {
     "name": "stdout",
     "output_type": "stream",
     "text": [
      "computer has chosen a starting number: 99\n",
      "current number: 99\n",
      "correct next number is...\n",
      "current number: 100\n",
      "Thats incorrect.The correct response was buzz.game over\n"
     ]
    }
   ],
   "source": [
    "import random\n",
    "\n",
    "def fizz_buzz():\n",
    "    num = random.randint(1, 100)\n",
    "    print(f\"computer has chosen a starting number: {num}\")\n",
    "    while True:\n",
    "        print(f\"current number: {num}\")\n",
    "        response = input(\"Is the number fizz,buzz, or Fizz Buzz? \")\n",
    "        if num % 3 == 0 and num % 5 == 0:\n",
    "            correct_response = \"fizz buzz\"\n",
    "        elif num % 3 == 0:\n",
    "            correct_response = \"fizz\"\n",
    "        elif num % 5 == 0:\n",
    "            correct_response = \"buzz\"\n",
    "        else:\n",
    "            correct_response = str(num)\n",
    "        if response.lower() == correct_response.lower():\n",
    "            print(\"correct next number is...\")\n",
    "            num += 1\n",
    "        else:\n",
    "            print(f\"Thats incorrect.The correct response was {correct_response}.game over\")\n",
    "            break\n",
    "fizz_buzz()"
   ]
  },
  {
   "cell_type": "code",
   "execution_count": null,
   "metadata": {},
   "outputs": [],
   "source": []
  }
 ],
 "metadata": {
  "kernelspec": {
   "display_name": "Python 3",
   "language": "python",
   "name": "python3"
  },
  "language_info": {
   "codemirror_mode": {
    "name": "ipython",
    "version": 3
   },
   "file_extension": ".py",
   "mimetype": "text/x-python",
   "name": "python",
   "nbconvert_exporter": "python",
   "pygments_lexer": "ipython3",
   "version": "3.12.1"
  }
 },
 "nbformat": 4,
 "nbformat_minor": 2
}
