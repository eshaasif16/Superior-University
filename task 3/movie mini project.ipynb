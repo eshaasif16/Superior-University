{
 "cells": [
  {
   "cell_type": "code",
   "execution_count": 2,
   "metadata": {},
   "outputs": [
    {
     "name": "stdout",
     "output_type": "stream",
     "text": [
      "average budget: $406,300,000.22\n",
      "movies with budget higher than the average are:\n",
      "spiderman no way home: $2,300,000,002.00 (Budget is $1,893,700,001.78 higher than average)\n",
      "total number of movies with budget higher than the averageare: 1\n"
     ]
    }
   ],
   "source": [
    "def add_movies(movies):\n",
    "    num_movies = int(input(\"fow many movies would you like to add?\"))\n",
    "    for _ in range(num_movies):\n",
    "        name = input(\"enter movie name: \")\n",
    "        budget = int(input(\"enter movie budget: \"))\n",
    "        movies.append((name, budget))    \n",
    "    return movies\n",
    "\n",
    "def analyze_movies(movies):\n",
    "    total_budget = sum(budget for _, budget in movies)\n",
    "    average_budget = total_budget / len(movies)\n",
    "    \n",
    "    print(f\"average budget: ${average_budget:,.2f}\")\n",
    "    \n",
    "    high_budget_movies = [(name, budget) for name, budget in movies if budget > average_budget]\n",
    "    count_high_budget_movies = len(high_budget_movies)\n",
    "    \n",
    "    if count_high_budget_movies > 0:\n",
    "        print(\"movies with budget higher than the average are:\")\n",
    "        for name, budget in high_budget_movies:\n",
    "            print(f\"{name}: ${budget:,.2f} (Budget is ${budget - average_budget:,.2f} higher than average)\")\n",
    "    else:\n",
    "        print(\"no movies have a budget higher than the average.\")\n",
    "    print(f\"total number of movies with budget higher than the averageare: {count_high_budget_movies}\")\n",
    "\n",
    "movies = [\n",
    "    (\"Eternal Sunshine of the Spotlessmind\",20000000),\n",
    "    (\"Memento\",9000000),\n",
    "    (\"Requiem for a Dream\", 4500000),\n",
    "    (\"Pirates of the Caribbean:On Stranger Tides\", 379000000),\n",
    "    (\"Avengers:Age of Ultron\", 365000000),\n",
    "    (\"Avengers:Endgame\", 356000000),\n",
    "    (\"Incredibles 2\", 200000000)]\n",
    "movies = add_movies(movies)\n",
    "analyze_movies(movies)"
   ]
  },
  {
   "cell_type": "code",
   "execution_count": null,
   "metadata": {},
   "outputs": [],
   "source": []
  }
 ],
 "metadata": {
  "kernelspec": {
   "display_name": "Python 3",
   "language": "python",
   "name": "python3"
  },
  "language_info": {
   "codemirror_mode": {
    "name": "ipython",
    "version": 3
   },
   "file_extension": ".py",
   "mimetype": "text/x-python",
   "name": "python",
   "nbconvert_exporter": "python",
   "pygments_lexer": "ipython3",
   "version": "3.12.1"
  }
 },
 "nbformat": 4,
 "nbformat_minor": 2
}
