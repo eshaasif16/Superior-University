{
 "cells": [
  {
   "cell_type": "code",
   "execution_count": 4,
   "metadata": {},
   "outputs": [
    {
     "name": "stdout",
     "output_type": "stream",
     "text": [
      "the card number is valid\n"
     ]
    }
   ],
   "source": [
    "def luhn(card_no):\n",
    "    card_digits =[int(digit) for digit in card_no[:: -1]]\n",
    "\n",
    "    for i in range(1,len(card_no), 2):\n",
    "        card_digits[i] *=2\n",
    "        if card_digits[i] > 9:\n",
    "            card_digits[i] -= 9\n",
    "        \n",
    "    total_sum=sum(card_digits)\n",
    "    return total_sum % 10 ==0\n",
    "card_no =input(\"enter the credit card number\")\n",
    "if luhn(card_no):\n",
    "    print(\"the card number is valid\")\n",
    "else:\n",
    "    print(\"the card number is invalid\")\n"
   ]
  },
  {
   "cell_type": "code",
   "execution_count": 6,
   "metadata": {},
   "outputs": [
    {
     "name": "stderr",
     "output_type": "stream",
     "text": [
      "<>:2: SyntaxWarning: invalid escape sequence '\\,'\n",
      "<>:2: SyntaxWarning: invalid escape sequence '\\,'\n",
      "C:\\Users\\Asif\\AppData\\Local\\Temp\\ipykernel_708\\952914065.py:2: SyntaxWarning: invalid escape sequence '\\,'\n",
      "  puntuation='''!()-[]{};:'\"\\,<>./?@#$%^&*_~'''\n"
     ]
    },
    {
     "name": "stdout",
     "output_type": "stream",
     "text": [
      "hello whos this \n",
      "hello whos this \n"
     ]
    }
   ],
   "source": [
    "def remove_punctuation(user_input):\n",
    "    puntuation='''!()-[]{};:'\"\\,<>./?@#$%^&*_~'''\n",
    "    result=\"\"\n",
    "    for char in user_input:\n",
    "        if char not in puntuation:\n",
    "           result +=char\n",
    "    return result\n",
    "user_input=input(\"enter a sentence:\")\n",
    "print(remove_punctuation(user_input))\n",
    "print(remove_punctuation(user_input))"
   ]
  },
  {
   "cell_type": "code",
   "execution_count": 3,
   "metadata": {},
   "outputs": [
    {
     "name": "stdout",
     "output_type": "stream",
     "text": [
      "eat hello i like pasta sauce to white\n"
     ]
    }
   ],
   "source": [
    "def alphabetical_sort(text):\n",
    "    words=text.split()\n",
    "    n=len(words)\n",
    "\n",
    "    for i in range(n):\n",
    "        for j in range(0,n-i-1):\n",
    "          if words[j] >words[j+1]:\n",
    "            words[j],words[j+1]=words[j+1],words[j]\n",
    "    return \" \".join(words)\n",
    "text=input(\"enter a sentence:\")\n",
    "sorted_text=(alphabetical_sort(text))\n",
    "print(sorted_text)"
   ]
  },
  {
   "cell_type": "code",
   "execution_count": null,
   "metadata": {},
   "outputs": [],
   "source": []
  }
 ],
 "metadata": {
  "kernelspec": {
   "display_name": "Python 3",
   "language": "python",
   "name": "python3"
  },
  "language_info": {
   "codemirror_mode": {
    "name": "ipython",
    "version": 3
   },
   "file_extension": ".py",
   "mimetype": "text/x-python",
   "name": "python",
   "nbconvert_exporter": "python",
   "pygments_lexer": "ipython3",
   "version": "3.12.1"
  }
 },
 "nbformat": 4,
 "nbformat_minor": 2
}
